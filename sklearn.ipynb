{
 "cells": [
  {
   "cell_type": "code",
   "execution_count": 13,
   "metadata": {},
   "outputs": [],
   "source": [
    "import pandas as pd\n",
    "import numpy as np\n",
    "import seaborn as sns"
   ]
  },
  {
   "cell_type": "code",
   "execution_count": 14,
   "metadata": {},
   "outputs": [],
   "source": [
    "df = sns.load_dataset('tips')\n",
    "feats = df.drop(['tip'], axis=1)\n",
    "labels = df['tip']\n",
    "numerical = feats.drop(['sex', 'smoker', 'day', 'time'], axis=1)\n",
    "categorical = feats.filter(['sex', 'smoker','day','time'])\n",
    "cnum = pd.get_dummies(categorical, drop_first=True)\n",
    "input = pd.concat([numerical, cnum], axis = 1)"
   ]
  },
  {
   "cell_type": "code",
   "execution_count": 15,
   "metadata": {},
   "outputs": [],
   "source": [
    "from sklearn.model_selection import train_test_split  \n",
    "from sklearn.preprocessing import StandardScaler as szcale\n",
    "\n",
    "x_train, x_test, y_train, y_test = train_test_split(input, labels, test_size = 0.20, random_state=1)\n",
    "sc = szcale()\n",
    "x_train, x_test = sc.fit_transform(x_train), sc.transform(x_test)"
   ]
  },
  {
   "cell_type": "code",
   "execution_count": 16,
   "metadata": {},
   "outputs": [
    {
     "name": "stdout",
     "output_type": "stream",
     "text": [
      "0.7956578566938419 1.3485509570854388 1.1612712676568895\n"
     ]
    }
   ],
   "source": [
    "from sklearn.linear_model import LinearRegression as LinReg\n",
    "\n",
    "lin_reg = LinReg()\n",
    "regressor = lin_reg.fit(x_train, y_train)\n",
    "y_pred = regressor.predict(x_test)\n",
    "\n",
    "from sklearn import metrics \n",
    "mae = metrics.mean_absolute_error(y_test, y_pred)\n",
    "mse = metrics.mean_squared_error(y_test, y_pred)\n",
    "rmse = np.sqrt(mse)\n",
    "print(mae, mse, rmse)"
   ]
  },
  {
   "cell_type": "code",
   "execution_count": 17,
   "metadata": {},
   "outputs": [
    {
     "name": "stdout",
     "output_type": "stream",
     "text": [
      "0.8683673469387755 1.8445991020408163 1.358160190125162\n"
     ]
    }
   ],
   "source": [
    "from sklearn.neighbors import KNeighborsRegressor as KNN\n",
    "knn_reg = KNN(n_neighbors=5)\n",
    "regressor = knn_reg.fit(x_train, y_train)\n",
    "y_pred = regressor.predict(x_test)\n",
    "mae = metrics.mean_absolute_error(y_test, y_pred)\n",
    "mse = metrics.mean_squared_error(y_test, y_pred)\n",
    "rmse = np.sqrt(mse)\n",
    "print(mae, mse, rmse)"
   ]
  }
 ],
 "metadata": {
  "interpreter": {
   "hash": "916dbcbb3f70747c44a77c7bcd40155683ae19c65e1c03b4aa3499c5328201f1"
  },
  "kernelspec": {
   "display_name": "Python 3.9.10 64-bit",
   "language": "python",
   "name": "python3"
  },
  "language_info": {
   "codemirror_mode": {
    "name": "ipython",
    "version": 3
   },
   "file_extension": ".py",
   "mimetype": "text/x-python",
   "name": "python",
   "nbconvert_exporter": "python",
   "pygments_lexer": "ipython3",
   "version": "3.9.5"
  },
  "orig_nbformat": 4
 },
 "nbformat": 4,
 "nbformat_minor": 2
}
