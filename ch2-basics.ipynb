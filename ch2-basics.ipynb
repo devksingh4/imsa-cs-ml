{
 "cells": [
  {
   "cell_type": "code",
   "execution_count": 4,
   "metadata": {},
   "outputs": [
    {
     "name": "stdout",
     "output_type": "stream",
     "text": [
      "<class 'str'>\n",
      "<class 'int'>\n",
      "<class 'float'>\n",
      "<class 'bool'>\n",
      "<class 'list'>\n",
      "<class 'tuple'>\n",
      "<class 'dict'>\n"
     ]
    }
   ],
   "source": [
    "dic = {\n",
    "  \"first_name\": \"Joseph\",\n",
    "  \"age\": 20,\n",
    "  \"weight\": 70.35,\n",
    "  \"married\": False,\n",
    "  \"cars\": ['Honda', 'Toyota', 'Suzuki'],\n",
    "  \"days\": (\"Sunday\", \"Monday\", \"Tuesday\", \"Wednesday\", \"Thursday\", \"Friday\", \"Saturday\"),\n",
    "  \"days2\": {1: \"Sunday\", 2:\"Monday\", 3:\"Tuesday\",\n",
    "4:\"Wednesday\", 5:\"Thursday\", 6:\"Friday\" , 7:\"Saturday\"}\n",
    "  }\n",
    "\n",
    "for item in dic.keys():\n",
    "  print(type(dic[item]))"
   ]
  },
  {
   "cell_type": "code",
   "execution_count": 7,
   "metadata": {},
   "outputs": [
    {
     "name": "stdout",
     "output_type": "stream",
     "text": [
      "30 10 200 2.0 10240000000000\n"
     ]
    }
   ],
   "source": [
    "x = 20\n",
    "y = 10 \n",
    "print(x + y, x-y, x*y, x/y, x**y)"
   ]
  },
  {
   "cell_type": "code",
   "execution_count": 8,
   "metadata": {},
   "outputs": [
    {
     "name": "stdout",
     "output_type": "stream",
     "text": [
      "False True True\n"
     ]
    }
   ],
   "source": [
    "x, y = True, False\n",
    "print(x and y, x or y, not(x and y))"
   ]
  },
  {
   "cell_type": "code",
   "execution_count": 9,
   "metadata": {},
   "outputs": [
    {
     "name": "stdout",
     "output_type": "stream",
     "text": [
      "False True False True False True\n"
     ]
    }
   ],
   "source": [
    "x = 20\n",
    "y = 35\n",
    "print(x == y, x != y , x > y, x < y, x >= y, x <=y)"
   ]
  },
  {
   "cell_type": "code",
   "execution_count": 11,
   "metadata": {},
   "outputs": [
    {
     "name": "stdout",
     "output_type": "stream",
     "text": [
      "30\n",
      "30\n",
      "10\n",
      "200\n",
      "2.0\n",
      "0\n",
      "10240000000000\n"
     ]
    }
   ],
   "source": [
    "x,y = 20, 10\n",
    "r = x + y\n",
    "print(r) \n",
    "\n",
    "x = 20\n",
    "y = 10 \n",
    "x += y \n",
    "print(x) \n",
    "\n",
    "x =20 \n",
    "y = 10 \n",
    "x-=y\n",
    "print(x)\n",
    "x = 20\n",
    "y = 10\n",
    "x *= y \n",
    "print(x)\n",
    "x = 20\n",
    "y = 10 \n",
    "x /= y \n",
    "print(x)\n",
    "x = 20 \n",
    "y = 10 \n",
    "x %= y \n",
    "print(x) \n",
    "x = 20 \n",
    "y = 10 \n",
    "x **= y \n",
    "print(x) "
   ]
  },
  {
   "cell_type": "code",
   "execution_count": 12,
   "metadata": {},
   "outputs": [
    {
     "name": "stdout",
     "output_type": "stream",
     "text": [
      "True\n"
     ]
    }
   ],
   "source": [
    "days = dic[\"days\"]\n",
    "print(\"Sunday\" in days)"
   ]
  },
  {
   "cell_type": "code",
   "execution_count": 13,
   "metadata": {},
   "outputs": [
    {
     "name": "stdout",
     "output_type": "stream",
     "text": [
      "False\n"
     ]
    }
   ],
   "source": [
    "print(\"Xunday\" in days)"
   ]
  },
  {
   "cell_type": "code",
   "execution_count": 14,
   "metadata": {},
   "outputs": [
    {
     "name": "stdout",
     "output_type": "stream",
     "text": [
      "10 > 5\n"
     ]
    }
   ],
   "source": [
    "if 10 > 5:\n",
    "  print(\"10 > 5\")"
   ]
  },
  {
   "cell_type": "code",
   "execution_count": 16,
   "metadata": {},
   "outputs": [
    {
     "name": "stdout",
     "output_type": "stream",
     "text": [
      "10 is greater than 5\n"
     ]
    }
   ],
   "source": [
    "if  5 > 10:  \n",
    "  print(\"5 is greater than 10\")  \n",
    "else:  \n",
    "  print(\"10 is greater than 5\")"
   ]
  },
  {
   "cell_type": "code",
   "execution_count": 18,
   "metadata": {},
   "outputs": [
    {
     "name": "stdout",
     "output_type": "stream",
     "text": [
      "5 is not greater than 10 and 8 is not smaller than 4\n"
     ]
    }
   ],
   "source": [
    "if  5 > 10:  \n",
    "  print(\"5 is greater than 10\")  \n",
    "elif 8 < 4:\n",
    "  print(\"8 is smaller than 4\")  \n",
    "else:  \n",
    "  print(\"5 is not greater than 10 and 8 is not smaller than 4\")  "
   ]
  },
  {
   "cell_type": "code",
   "execution_count": 19,
   "metadata": {},
   "outputs": [
    {
     "name": "stdout",
     "output_type": "stream",
     "text": [
      "0\n",
      "1\n",
      "2\n",
      "3\n",
      "4\n"
     ]
    }
   ],
   "source": [
    "for t in range(5):\n",
    "  print(t)"
   ]
  },
  {
   "cell_type": "code",
   "execution_count": 20,
   "metadata": {},
   "outputs": [
    {
     "name": "stdout",
     "output_type": "stream",
     "text": [
      "0\n",
      "1\n",
      "2\n",
      "3\n",
      "4\n",
      "5\n",
      "6\n",
      "7\n",
      "8\n",
      "9\n"
     ]
    }
   ],
   "source": [
    "c = 0\n",
    "while c < 10:\n",
    "  print(c)\n",
    "  c = c+1"
   ]
  },
  {
   "cell_type": "code",
   "execution_count": 23,
   "metadata": {},
   "outputs": [
    {
     "name": "stdout",
     "output_type": "stream",
     "text": [
      "This is a simple function!\n"
     ]
    }
   ],
   "source": [
    "myFunc = lambda: print('This is a simple function!')\n",
    "\n",
    "myFunc()"
   ]
  },
  {
   "cell_type": "code",
   "execution_count": 26,
   "metadata": {},
   "outputs": [
    {
     "name": "stdout",
     "output_type": "stream",
     "text": [
      "This is a function with parameter value: Parameter 1\n"
     ]
    }
   ],
   "source": [
    "myfuncparam = lambda num: print(\"This is a function with parameter value:\", num)\n",
    "\n",
    "myfuncparam(\"Parameter 1\")"
   ]
  },
  {
   "cell_type": "code",
   "execution_count": 27,
   "metadata": {},
   "outputs": [
    {
     "name": "stdout",
     "output_type": "stream",
     "text": [
      "This function returns a value\n"
     ]
    }
   ],
   "source": [
    "myreturnfunc = lambda: \"This function returns a value\"\n",
    "print(myreturnfunc())"
   ]
  },
  {
   "cell_type": "code",
   "execution_count": 28,
   "metadata": {},
   "outputs": [
    {
     "name": "stdout",
     "output_type": "stream",
     "text": [
      "Fruit has been eaten\n",
      "apple\n",
      "10\n"
     ]
    }
   ],
   "source": [
    "class Fruit:\n",
    "  def __init__(self):\n",
    "    self.name = \"apple\"\n",
    "    self.price = 10\n",
    "  def eat_fruit(self):\n",
    "    print(\"Fruit has been eaten\")\n",
    "\n",
    "f = Fruit()\n",
    "f.eat_fruit()\n",
    "print(f.name)\n",
    "print(f.price)"
   ]
  },
  {
   "cell_type": "code",
   "execution_count": 29,
   "metadata": {},
   "outputs": [
    {
     "name": "stdout",
     "output_type": "stream",
     "text": [
      "Fruit has been eaten\n",
      "Orange\n",
      "10\n"
     ]
    }
   ],
   "source": [
    "class Fruit:\n",
    "  def __init__(self, name, price):\n",
    "    self.name = name\n",
    "    self.price = price\n",
    "  def eat_fruit(self):\n",
    "    print(\"Fruit has been eaten\")\n",
    "\n",
    "f = Fruit(\"Orange\", 10)\n",
    "f.eat_fruit()\n",
    "print(f.name)\n",
    "print(f.price)"
   ]
  },
  {
   "cell_type": "code",
   "execution_count": null,
   "metadata": {},
   "outputs": [],
   "source": []
  }
 ],
 "metadata": {
  "interpreter": {
   "hash": "9b0bcd597a3705e8740e1d758f8e0885d6a8bcfac4320c894a1a6bafa72c92ab"
  },
  "kernelspec": {
   "display_name": "Python 3.9.5 64-bit ('base': conda)",
   "language": "python",
   "name": "python3"
  },
  "language_info": {
   "codemirror_mode": {
    "name": "ipython",
    "version": 3
   },
   "file_extension": ".py",
   "mimetype": "text/x-python",
   "name": "python",
   "nbconvert_exporter": "python",
   "pygments_lexer": "ipython3",
   "version": "3.9.5"
  },
  "orig_nbformat": 4
 },
 "nbformat": 4,
 "nbformat_minor": 2
}
