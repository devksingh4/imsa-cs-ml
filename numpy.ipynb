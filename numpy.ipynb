{
 "cells": [
  {
   "cell_type": "code",
   "execution_count": 4,
   "metadata": {},
   "outputs": [
    {
     "name": "stdout",
     "output_type": "stream",
     "text": [
      "int64\n",
      "[ 1  3  5 -7 14] 16 [1. 1. 1. 1. 1.]\n",
      "-7 14\n"
     ]
    }
   ],
   "source": [
    "import numpy as np\n",
    "\n",
    "arr = np.array([1,3,5,-7,14])\n",
    "arr = arr.astype('int64')\n",
    "print(arr.dtype)\n",
    "sum = arr.sum()\n",
    "ones = np.ones(5)\n",
    "min = np.min(arr)\n",
    "max = np.max(arr)\n",
    "print(arr, sum, ones)\n",
    "print(min, max)"
   ]
  },
  {
   "cell_type": "code",
   "execution_count": 5,
   "metadata": {},
   "outputs": [
    {
     "name": "stdout",
     "output_type": "stream",
     "text": [
      "[0. 0. 0. 0. 0.] \n",
      " [[4.67896683e-310 0.00000000e+000 6.90906383e-310 6.90906401e-310\n",
      "  6.90906404e-310]\n",
      " [6.90906402e-310 6.90906402e-310 6.90906383e-310 6.90906383e-310\n",
      "  6.90906400e-310]\n",
      " [6.90906383e-310 6.90906383e-310 6.90906400e-310 6.90906398e-310\n",
      "  6.90906399e-310]\n",
      " [6.90906402e-310 6.90906401e-310 6.90906402e-310 6.90906404e-310\n",
      "  6.90906403e-310]\n",
      " [6.90906400e-310 6.90906400e-310 6.90906386e-310 6.90906393e-310\n",
      "  1.02765654e-321]] \n",
      " [0.29239842 0.43718975 0.16436337 0.36844196 0.89436125] \n",
      " [0.  0.5 1.  1.5 2. ]\n"
     ]
    }
   ],
   "source": [
    "zeroes = np.zeros(5)\n",
    "empty = np.empty([5,5])\n",
    "random = np.random.random(5)\n",
    "linspace = np.linspace(num=5, start=0, stop=2)\n",
    "print(zeroes, \"\\n\", empty, \"\\n\",random, \"\\n\",linspace)"
   ]
  },
  {
   "cell_type": "code",
   "execution_count": 6,
   "metadata": {},
   "outputs": [
    {
     "name": "stdout",
     "output_type": "stream",
     "text": [
      "[[1. 1. 1. 1. 1.]\n",
      " [0. 0. 0. 0. 0.]]\n"
     ]
    }
   ],
   "source": [
    "stacked = np.stack([ones, zeroes], axis=0)\n",
    "print(stacked)"
   ]
  },
  {
   "cell_type": "code",
   "execution_count": 7,
   "metadata": {},
   "outputs": [
    {
     "name": "stdout",
     "output_type": "stream",
     "text": [
      "[0.29239842 0.43718975 0.16436337 0.36844196 0.89436125 0.\n",
      " 0.5        1.         1.5        2.        ]\n"
     ]
    }
   ],
   "source": [
    "concat = np.concatenate([random, linspace], axis=0)\n",
    "print(concat)"
   ]
  },
  {
   "cell_type": "code",
   "execution_count": 8,
   "metadata": {},
   "outputs": [
    {
     "name": "stdout",
     "output_type": "stream",
     "text": [
      "3 4\n"
     ]
    }
   ],
   "source": [
    "argmin = np.argmin(arr)\n",
    "argmax = np.argmax(arr)\n",
    "print(argmin, argmax)"
   ]
  },
  {
   "cell_type": "code",
   "execution_count": 20,
   "metadata": {},
   "outputs": [
    {
     "name": "stdout",
     "output_type": "stream",
     "text": [
      "[7 1 4 4]\n",
      "[[7 1]\n",
      " [4 4]]\n",
      "[[7 4]\n",
      " [1 4]]\n"
     ]
    }
   ],
   "source": [
    "rands = np.random.randint(10, size=4)\n",
    "print(rands)\n",
    "reshape = rands.reshape([2,2])\n",
    "print(reshape)\n",
    "transpose = reshape.transpose()\n",
    "print(transpose)"
   ]
  },
  {
   "cell_type": "code",
   "execution_count": null,
   "metadata": {},
   "outputs": [],
   "source": []
  }
 ],
 "metadata": {
  "interpreter": {
   "hash": "9b0bcd597a3705e8740e1d758f8e0885d6a8bcfac4320c894a1a6bafa72c92ab"
  },
  "kernelspec": {
   "display_name": "Python 3.9.5 64-bit ('base': conda)",
   "language": "python",
   "name": "python3"
  },
  "language_info": {
   "codemirror_mode": {
    "name": "ipython",
    "version": 3
   },
   "file_extension": ".py",
   "mimetype": "text/x-python",
   "name": "python",
   "nbconvert_exporter": "python",
   "pygments_lexer": "ipython3",
   "version": "3.9.5"
  },
  "orig_nbformat": 4
 },
 "nbformat": 4,
 "nbformat_minor": 2
}
