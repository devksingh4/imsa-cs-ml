{
 "cells": [
  {
   "cell_type": "code",
   "execution_count": 7,
   "metadata": {},
   "outputs": [
    {
     "name": "stdout",
     "output_type": "stream",
     "text": [
      "int64\n",
      "[ 1  3  5 -7 14] 16 [1. 1. 1. 1. 1.]\n",
      "-7 14\n"
     ]
    }
   ],
   "source": [
    "import numpy as np\n",
    "\n",
    "arr = np.array([1,3,5,-7,14])\n",
    "arr = arr.astype('int64')\n",
    "print(arr.dtype)\n",
    "sum = arr.sum()\n",
    "ones = np.ones(5)\n",
    "min = np.min(arr)\n",
    "max = np.max(arr)\n",
    "print(arr, sum, ones)\n",
    "print(min, max)"
   ]
  },
  {
   "cell_type": "code",
   "execution_count": 8,
   "metadata": {},
   "outputs": [
    {
     "name": "stdout",
     "output_type": "stream",
     "text": [
      "[0. 0. 0. 0. 0.] \n",
      " [[0. 0. 0. 0. 0.]\n",
      " [0. 0. 0. 0. 0.]\n",
      " [0. 0. 0. 0. 0.]\n",
      " [0. 0. 0. 0. 0.]\n",
      " [0. 0. 0. 0. 0.]] \n",
      " [0.20862319 0.10547534 0.65838439 0.44159704 0.12134991] \n",
      " [5.         4.93877551 4.87755102 4.81632653 4.75510204 4.69387755\n",
      " 4.63265306 4.57142857 4.51020408 4.44897959 4.3877551  4.32653061\n",
      " 4.26530612 4.20408163 4.14285714 4.08163265 4.02040816 3.95918367\n",
      " 3.89795918 3.83673469 3.7755102  3.71428571 3.65306122 3.59183673\n",
      " 3.53061224 3.46938776 3.40816327 3.34693878 3.28571429 3.2244898\n",
      " 3.16326531 3.10204082 3.04081633 2.97959184 2.91836735 2.85714286\n",
      " 2.79591837 2.73469388 2.67346939 2.6122449  2.55102041 2.48979592\n",
      " 2.42857143 2.36734694 2.30612245 2.24489796 2.18367347 2.12244898\n",
      " 2.06122449 2.        ]\n"
     ]
    }
   ],
   "source": [
    "zeroes = np.zeros(5)\n",
    "empty = np.empty([5,5])\n",
    "random = np.random.random(5)\n",
    "linspace = np.linspace(5, stop=2)\n",
    "print(zeroes, \"\\n\", empty, \"\\n\",random, \"\\n\",linspace)"
   ]
  },
  {
   "cell_type": "code",
   "execution_count": 9,
   "metadata": {},
   "outputs": [
    {
     "name": "stdout",
     "output_type": "stream",
     "text": [
      "[[1. 1. 1. 1. 1.]\n",
      " [0. 0. 0. 0. 0.]]\n"
     ]
    }
   ],
   "source": [
    "stacked = np.stack([ones, zeroes], axis=0)\n",
    "print(stacked)"
   ]
  },
  {
   "cell_type": "code",
   "execution_count": 10,
   "metadata": {},
   "outputs": [
    {
     "name": "stdout",
     "output_type": "stream",
     "text": [
      "[0.20862319 0.10547534 0.65838439 0.44159704 0.12134991 5.\n",
      " 4.93877551 4.87755102 4.81632653 4.75510204 4.69387755 4.63265306\n",
      " 4.57142857 4.51020408 4.44897959 4.3877551  4.32653061 4.26530612\n",
      " 4.20408163 4.14285714 4.08163265 4.02040816 3.95918367 3.89795918\n",
      " 3.83673469 3.7755102  3.71428571 3.65306122 3.59183673 3.53061224\n",
      " 3.46938776 3.40816327 3.34693878 3.28571429 3.2244898  3.16326531\n",
      " 3.10204082 3.04081633 2.97959184 2.91836735 2.85714286 2.79591837\n",
      " 2.73469388 2.67346939 2.6122449  2.55102041 2.48979592 2.42857143\n",
      " 2.36734694 2.30612245 2.24489796 2.18367347 2.12244898 2.06122449\n",
      " 2.        ]\n"
     ]
    }
   ],
   "source": [
    "concat = np.concatenate([random, linspace], axis=0)\n",
    "print(concat)"
   ]
  },
  {
   "cell_type": "code",
   "execution_count": 11,
   "metadata": {},
   "outputs": [
    {
     "name": "stdout",
     "output_type": "stream",
     "text": [
      "3 4\n"
     ]
    }
   ],
   "source": [
    "argmin = np.argmin(arr)\n",
    "argmax = np.argmax(arr)\n",
    "print(argmin, argmax)"
   ]
  },
  {
   "cell_type": "code",
   "execution_count": null,
   "metadata": {},
   "outputs": [],
   "source": []
  }
 ],
 "metadata": {
  "interpreter": {
   "hash": "9b0bcd597a3705e8740e1d758f8e0885d6a8bcfac4320c894a1a6bafa72c92ab"
  },
  "kernelspec": {
   "display_name": "Python 3.9.5 64-bit ('base': conda)",
   "language": "python",
   "name": "python3"
  },
  "language_info": {
   "codemirror_mode": {
    "name": "ipython",
    "version": 3
   },
   "file_extension": ".py",
   "mimetype": "text/x-python",
   "name": "python",
   "nbconvert_exporter": "python",
   "pygments_lexer": "ipython3",
   "version": "3.9.5"
  },
  "orig_nbformat": 4
 },
 "nbformat": 4,
 "nbformat_minor": 2
}
