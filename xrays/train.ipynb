{
 "cells": [
  {
   "cell_type": "code",
   "execution_count": null,
   "metadata": {},
   "outputs": [],
   "source": [
    "base_path = '/home/datasets/rsna-intracranial-hemorrhage-detection/'\n",
    "csv_path = base_path + 'stage_2_train.csv'\n",
    "items = base_path + 'stage_2_train/'"
   ]
  },
  {
   "cell_type": "code",
   "execution_count": null,
   "metadata": {},
   "outputs": [],
   "source": [
    "from torch.utils.data import Dataset, DataLoader\n",
    "import torch, csv, pydicom\n",
    "import torchvision.transforms as transforms\n",
    "from PIL import Image\n",
    "\n",
    "class RSNASet(Dataset):\n",
    "    def __init__(self, csv_path, root_dir):\n",
    "        self.root_dir = root_dir\n",
    "        labels = {}\n",
    "        with open(csv_path) as f:\n",
    "            rdr = csv.reader(f)\n",
    "            next(rdr)\n",
    "            for rows in rdr:\n",
    "                fn = '_'.join(rows[0].split('_')[0:2])\n",
    "                try:\n",
    "                    labels[fn].append(int(rows[1]))\n",
    "                except:\n",
    "                    labels[fn] = [int(rows[1])]\n",
    "        for fn in labels.keys():\n",
    "            # \"any\" should really be the classification \"none\"\n",
    "            # so, it should only be 1 if nothing else is true - swap the values\n",
    "            labels[fn][5] = abs(labels[fn][5]-1)\n",
    "        self.labels = labels\n",
    "        self.files = list(labels.keys())\n",
    "    def __len__(self):\n",
    "        return len(self.labels)\n",
    "    def __getitem__(self, idx):\n",
    "        if torch.is_tensor(idx):\n",
    "            idx = idx.tolist()\n",
    "        file = self.files[idx]\n",
    "        label = torch.argmax(torch.FloatTensor(self.labels[file]))\n",
    "        img = pydicom.dcmread(self.root_dir+file+'.dcm').pixel_array\n",
    "        tf = transforms.Compose([\n",
    "            transforms.ToTensor(),\n",
    "            transforms.Resize((256, 256)),\n",
    "            transforms.Lambda(lambda x: x.repeat(3,1,1)),\n",
    "            transforms.ConvertImageDtype(torch.float),\n",
    "        ])\n",
    "        img = tf(Image.fromarray(img))\n",
    "        return img, label"
   ]
  },
  {
   "cell_type": "code",
   "execution_count": null,
   "metadata": {},
   "outputs": [],
   "source": [
    "BATCH_SIZE = 128\n",
    "trainset = RSNASet(csv_path=csv_path, root_dir=items)\n",
    "model = 'resnet18'\n",
    "trainloader = torch.utils.data.DataLoader(trainset,batch_size=BATCH_SIZE,shuffle=True,num_workers=4)\n",
    "classes = ('epidural', 'intraparenchymal', 'intraventricular', 'subarachnoid', 'subdural','none')\n",
    "model = torch.hub.load('pytorch/vision:v0.10.0', model, pretrained=False, num_classes=len(classes))\n",
    "if torch.cuda.is_available():\n",
    "    print(\"CUDA is available - using CUDA!\")\n",
    "    model = model.cuda()\n",
    "import torch.optim as optim\n",
    "import torch.nn as nn\n",
    "criterion = nn.CrossEntropyLoss()\n",
    "optimizer = optim.Adam(model.parameters(), lr=0.001)"
   ]
  },
  {
   "cell_type": "code",
   "execution_count": null,
   "metadata": {},
   "outputs": [],
   "source": [
    "\n",
    "from tqdm import tqdm\n",
    "for epoch in range(5):  # loop over the dataset multiple times\n",
    "    running_loss = 0.0\n",
    "    batch = 0\n",
    "    with tqdm(trainloader, unit=\"batch\") as tepoch:\n",
    "        for inputs, labels in tepoch:\n",
    "            tepoch.set_description(f\"Epoch {epoch + 1}\")\n",
    "            # get the inputs; data is a list of [inputs, labels]\n",
    "            if torch.cuda.is_available():\n",
    "                inputs = inputs.cuda()\n",
    "                labels = labels.cuda()\n",
    "            # zero the parameter gradients\n",
    "            optimizer.zero_grad()\n",
    "\n",
    "            # forward + backward + optimize\n",
    "            outputs = model(inputs)\n",
    "            loss = criterion(outputs, labels)\n",
    "            loss.backward()\n",
    "            optimizer.step()\n",
    "            predictions = outputs.argmax(dim=1, keepdim=True).squeeze()\n",
    "            correct = (predictions == labels).sum().item()\n",
    "            accuracy = correct / BATCH_SIZE # batch_size\n",
    "            running_loss += loss.item()\n",
    "            if batch % 50 == 49:\n",
    "                tepoch.set_postfix(loss=running_loss/50, accuracy=100. * accuracy)\n",
    "                running_loss = 0.0\n",
    "            batch += 1\n",
    "\n",
    "    print('Saving model at epoch {}'.format(epoch))\n",
    "    torch.save(model.state_dict(), \"weights/{}/epoch{}.pth\".format(model,epoch))\n",
    "    print('Saved model at epoch {}!'.format(epoch))\n",
    "print('Finished training!')"
   ]
  }
 ],
 "metadata": {
  "interpreter": {
   "hash": "db633a2415b8a28dc946d9e13a3dbc9dc65443e0a408813de63e49810352fa2a"
  },
  "kernelspec": {
   "display_name": "Python 3.8.13 ('tensorflow')",
   "language": "python",
   "name": "python3"
  },
  "language_info": {
   "codemirror_mode": {
    "name": "ipython",
    "version": 3
   },
   "file_extension": ".py",
   "mimetype": "text/x-python",
   "name": "python",
   "nbconvert_exporter": "python",
   "pygments_lexer": "ipython3",
   "version": "3.9.7"
  },
  "orig_nbformat": 4
 },
 "nbformat": 4,
 "nbformat_minor": 2
}
